{
 "cells": [
  {
   "cell_type": "code",
   "execution_count": 24,
   "id": "7af3197c",
   "metadata": {},
   "outputs": [
    {
     "name": "stdout",
     "output_type": "stream",
     "text": [
      "Requirement already satisfied: pymongo in c:\\users\\param\\anaconda3\\lib\\site-packages (4.7.3)\n",
      "Requirement already satisfied: pandas in c:\\users\\param\\anaconda3\\lib\\site-packages (2.0.3)\n",
      "Requirement already satisfied: dnspython<3.0.0,>=1.16.0 in c:\\users\\param\\anaconda3\\lib\\site-packages (from pymongo) (2.6.1)\n",
      "Requirement already satisfied: python-dateutil>=2.8.2 in c:\\users\\param\\anaconda3\\lib\\site-packages (from pandas) (2.8.2)\n",
      "Requirement already satisfied: pytz>=2020.1 in c:\\users\\param\\anaconda3\\lib\\site-packages (from pandas) (2023.3.post1)\n",
      "Requirement already satisfied: tzdata>=2022.1 in c:\\users\\param\\anaconda3\\lib\\site-packages (from pandas) (2023.3)\n",
      "Requirement already satisfied: numpy>=1.21.0 in c:\\users\\param\\anaconda3\\lib\\site-packages (from pandas) (1.24.3)\n",
      "Requirement already satisfied: six>=1.5 in c:\\users\\param\\anaconda3\\lib\\site-packages (from python-dateutil>=2.8.2->pandas) (1.16.0)\n",
      "Note: you may need to restart the kernel to use updated packages.\n"
     ]
    }
   ],
   "source": [
    "pip install pymongo pandas"
   ]
  },
  {
   "cell_type": "code",
   "execution_count": 41,
   "id": "11634d5d",
   "metadata": {},
   "outputs": [],
   "source": [
    "import pymongo\n",
    "import pandas as pd\n",
    "import numpy as np\n",
    "import pandas as pd\n",
    "import matplotlib.pyplot as plt\n",
    "import seaborn as sns\n",
    "from sklearn.preprocessing import LabelEncoder"
   ]
  },
  {
   "cell_type": "code",
   "execution_count": 26,
   "id": "8cca7cf3",
   "metadata": {},
   "outputs": [],
   "source": [
    "user = pymongo.MongoClient(\"mongodb://localhost:27017/\")\n",
    "db = user[\"BI_Project\"]\n",
    "collection = db[\"BI_Product_Review\"]"
   ]
  },
  {
   "cell_type": "code",
   "execution_count": 27,
   "id": "bae70461",
   "metadata": {},
   "outputs": [],
   "source": [
    "# Fetching all documents in the collection\n",
    "data = list(collection.find())"
   ]
  },
  {
   "cell_type": "code",
   "execution_count": 28,
   "id": "09cbdabf",
   "metadata": {},
   "outputs": [],
   "source": [
    "df = pd.DataFrame(data)"
   ]
  },
  {
   "cell_type": "code",
   "execution_count": 29,
   "id": "e5b73af6",
   "metadata": {},
   "outputs": [
    {
     "name": "stdout",
     "output_type": "stream",
     "text": [
      "The dataset has 240 number of rows and 7 number of columns.\n"
     ]
    }
   ],
   "source": [
    "print(f'The dataset has {df.shape[0]} number of rows and {df.shape[1]} number of columns.')"
   ]
  },
  {
   "cell_type": "code",
   "execution_count": 30,
   "id": "b5afedcd",
   "metadata": {},
   "outputs": [
    {
     "data": {
      "text/plain": [
       "Index(['_id', 'product_name', 'product_price', 'product_rating',\n",
       "       'product_review', 'product_detailed_review', 'Sentiment'],\n",
       "      dtype='object')"
      ]
     },
     "execution_count": 30,
     "metadata": {},
     "output_type": "execute_result"
    }
   ],
   "source": [
    "df.columns"
   ]
  },
  {
   "cell_type": "code",
   "execution_count": 31,
   "id": "c029c2c2",
   "metadata": {},
   "outputs": [
    {
     "data": {
      "text/plain": [
       "12"
      ]
     },
     "execution_count": 31,
     "metadata": {},
     "output_type": "execute_result"
    }
   ],
   "source": [
    "#Check number of unique products in our Mongo db Data base \n",
    "df['product_name'].nunique()"
   ]
  },
  {
   "cell_type": "code",
   "execution_count": 32,
   "id": "06cd7091",
   "metadata": {},
   "outputs": [
    {
     "name": "stdout",
     "output_type": "stream",
     "text": [
      "<class 'pandas.core.frame.DataFrame'>\n",
      "RangeIndex: 240 entries, 0 to 239\n",
      "Data columns (total 7 columns):\n",
      " #   Column                   Non-Null Count  Dtype \n",
      "---  ------                   --------------  ----- \n",
      " 0   _id                      240 non-null    object\n",
      " 1   product_name             240 non-null    object\n",
      " 2   product_price            240 non-null    int64 \n",
      " 3   product_rating           240 non-null    int64 \n",
      " 4   product_review           240 non-null    object\n",
      " 5   product_detailed_review  240 non-null    object\n",
      " 6   Sentiment                240 non-null    object\n",
      "dtypes: int64(2), object(5)\n",
      "memory usage: 13.3+ KB\n"
     ]
    }
   ],
   "source": [
    "df.info()"
   ]
  },
  {
   "cell_type": "code",
   "execution_count": 33,
   "id": "a509a2af",
   "metadata": {},
   "outputs": [
    {
     "data": {
      "text/plain": [
       "_id                        0\n",
       "product_name               0\n",
       "product_price              0\n",
       "product_rating             0\n",
       "product_review             0\n",
       "product_detailed_review    0\n",
       "Sentiment                  0\n",
       "dtype: int64"
      ]
     },
     "execution_count": 33,
     "metadata": {},
     "output_type": "execute_result"
    }
   ],
   "source": [
    "# check the null values\n",
    "df.isnull().sum()"
   ]
  },
  {
   "cell_type": "code",
   "execution_count": 34,
   "id": "99c95058",
   "metadata": {},
   "outputs": [
    {
     "name": "stdout",
     "output_type": "stream",
     "text": [
      "This cooler is great. Excellent airflow and the price is amazing. Just love it. \n",
      "\n",
      "This is the best budget cooler. Nice cooling performance for the price. \n",
      "\n",
      "The quality is good but the air power is only decent. \n",
      "\n"
     ]
    }
   ],
   "source": [
    "#check first three reviews\n",
    "for review in df['product_detailed_review'][0:3]:\n",
    "    print(review,'\\n')"
   ]
  },
  {
   "cell_type": "code",
   "execution_count": 37,
   "id": "4d0404c1",
   "metadata": {},
   "outputs": [
    {
     "name": "stdout",
     "output_type": "stream",
     "text": [
      "Sentiment\n",
      "positive    210\n",
      "negative     30\n",
      "Name: count, dtype: int64\n"
     ]
    }
   ],
   "source": [
    "sentiment_counts = df['Sentiment'].value_counts()\n",
    "print(sentiment_counts)"
   ]
  },
  {
   "cell_type": "code",
   "execution_count": 40,
   "id": "dcdd47d3",
   "metadata": {},
   "outputs": [
    {
     "data": {
      "image/png": "[encoded data removed]",
      "text/plain": [
       "<Figure size 640x480 with 1 Axes>"
      ]
     },
     "metadata": {},
     "output_type": "display_data"
    }
   ],
   "source": [
    "# Sentiment Distribution Plot\n",
    "sns.countplot(x='Sentiment', data=df)\n",
    "plt.title('Sentiment Distribution')\n",
    "plt.show()"
   ]
  },
  {
   "cell_type": "code",
   "execution_count": 11,
   "id": "76095e99",
   "metadata": {},
   "outputs": [
    {
     "name": "stderr",
     "output_type": "stream",
     "text": [
      "[nltk_data] Downloading package stopwords to\n",
      "[nltk_data]     C:\\Users\\param\\AppData\\Roaming\\nltk_data...\n",
      "[nltk_data]   Package stopwords is already up-to-date!\n"
     ]
    }
   ],
   "source": [
    "from bs4 import BeautifulSoup\n",
    "import nltk\n",
    "import re\n",
    "from nltk.corpus import stopwords\n",
    "from nltk.stem.snowball import SnowballStemmer\n",
    "\n",
    "nltk.download('stopwords') # Download the stop words corpus\n",
    "stops = set(stopwords.words('english')) #english stopwords\n",
    "stemmer = SnowballStemmer('english') #SnowballStemmer\n"
   ]
  },
  {
   "cell_type": "markdown",
   "id": "793745a7",
   "metadata": {},
   "source": [
    "This code snippet downloads the NLTK stopwords corpus for English and creates a set named `stops` containing common words like \"is\", \"are\", \"the\", etc., which are typically filtered out during text analysis to focus on meaningful content."
   ]
  },
  {
   "cell_type": "markdown",
   "id": "d5b8d425",
   "metadata": {},
   "source": [
    "The line `temmer = SnowballStemmer('english')` initializes a Snowball stemming object named `temmer` for English. Stemming is the process of reducing words to their base or root form, which helps in normalizing variations of words. In this case, it allows for processing text data where words like \"running\", \"ran\", and \"runner\" are all reduced to \"run\", aiding in text analysis and natural language processing tasks."
   ]
  },
  {
   "cell_type": "markdown",
   "id": "02028613",
   "metadata": {},
   "source": [
    "The `review_to_words` function processes a raw text review to make it suitable for text analysis. It first removes HTML tags using BeautifulSoup and then keeps only alphabetic characters, converting them to lowercase and splitting them into individual words. It removes common stopwords and applies stemming to reduce words to their root forms, finally joining the processed words back into a single string."
   ]
  },
  {
   "cell_type": "code",
   "execution_count": 12,
   "id": "491a864b",
   "metadata": {},
   "outputs": [],
   "source": [
    "def review_to_words(raw_review):\n",
    "    # 1. Delete HTML \n",
    "    review_text = BeautifulSoup(raw_review, 'html.parser').get_text()\n",
    "    # 2. Make a space\n",
    "    letters_only = re.sub('[^a-zA-Z]', ' ', review_text)\n",
    "    # 3. lower letters\n",
    "    words = letters_only.lower().split()\n",
    "    # 5. Stopwords \n",
    "    meaningful_words = [w for w in words if not w in stops]\n",
    "    # 6. Stemming\n",
    "    stemming_words = [stemmer.stem(w) for w in meaningful_words]\n",
    "    # 7. space join words\n",
    "    return( ' '.join(stemming_words))"
   ]
  },
  {
   "cell_type": "code",
   "execution_count": 13,
   "id": "5cdb12e3",
   "metadata": {},
   "outputs": [
    {
     "data": {
      "text/plain": [
       "{'a',\n",
       " 'about',\n",
       " 'above',\n",
       " 'after',\n",
       " 'again',\n",
       " 'against',\n",
       " 'ain',\n",
       " 'all',\n",
       " 'am',\n",
       " 'an',\n",
       " 'and',\n",
       " 'any',\n",
       " 'are',\n",
       " 'aren',\n",
       " \"aren't\",\n",
       " 'as',\n",
       " 'at',\n",
       " 'be',\n",
       " 'because',\n",
       " 'been',\n",
       " 'before',\n",
       " 'being',\n",
       " 'below',\n",
       " 'between',\n",
       " 'both',\n",
       " 'but',\n",
       " 'by',\n",
       " 'can',\n",
       " 'couldn',\n",
       " \"couldn't\",\n",
       " 'd',\n",
       " 'did',\n",
       " 'didn',\n",
       " \"didn't\",\n",
       " 'do',\n",
       " 'does',\n",
       " 'doesn',\n",
       " \"doesn't\",\n",
       " 'doing',\n",
       " 'don',\n",
       " \"don't\",\n",
       " 'down',\n",
       " 'during',\n",
       " 'each',\n",
       " 'few',\n",
       " 'for',\n",
       " 'from',\n",
       " 'further',\n",
       " 'had',\n",
       " 'hadn',\n",
       " \"hadn't\",\n",
       " 'has',\n",
       " 'hasn',\n",
       " \"hasn't\",\n",
       " 'have',\n",
       " 'haven',\n",
       " \"haven't\",\n",
       " 'having',\n",
       " 'he',\n",
       " 'her',\n",
       " 'here',\n",
       " 'hers',\n",
       " 'herself',\n",
       " 'him',\n",
       " 'himself',\n",
       " 'his',\n",
       " 'how',\n",
       " 'i',\n",
       " 'if',\n",
       " 'in',\n",
       " 'into',\n",
       " 'is',\n",
       " 'isn',\n",
       " \"isn't\",\n",
       " 'it',\n",
       " \"it's\",\n",
       " 'its',\n",
       " 'itself',\n",
       " 'just',\n",
       " 'll',\n",
       " 'm',\n",
       " 'ma',\n",
       " 'me',\n",
       " 'mightn',\n",
       " \"mightn't\",\n",
       " 'more',\n",
       " 'most',\n",
       " 'mustn',\n",
       " \"mustn't\",\n",
       " 'my',\n",
       " 'myself',\n",
       " 'needn',\n",
       " \"needn't\",\n",
       " 'no',\n",
       " 'nor',\n",
       " 'not',\n",
       " 'now',\n",
       " 'o',\n",
       " 'of',\n",
       " 'off',\n",
       " 'on',\n",
       " 'once',\n",
       " 'only',\n",
       " 'or',\n",
       " 'other',\n",
       " 'our',\n",
       " 'ours',\n",
       " 'ourselves',\n",
       " 'out',\n",
       " 'over',\n",
       " 'own',\n",
       " 're',\n",
       " 's',\n",
       " 'same',\n",
       " 'shan',\n",
       " \"shan't\",\n",
       " 'she',\n",
       " \"she's\",\n",
       " 'should',\n",
       " \"should've\",\n",
       " 'shouldn',\n",
       " \"shouldn't\",\n",
       " 'so',\n",
       " 'some',\n",
       " 'such',\n",
       " 't',\n",
       " 'than',\n",
       " 'that',\n",
       " \"that'll\",\n",
       " 'the',\n",
       " 'their',\n",
       " 'theirs',\n",
       " 'them',\n",
       " 'themselves',\n",
       " 'then',\n",
       " 'there',\n",
       " 'these',\n",
       " 'they',\n",
       " 'this',\n",
       " 'those',\n",
       " 'through',\n",
       " 'to',\n",
       " 'too',\n",
       " 'under',\n",
       " 'until',\n",
       " 'up',\n",
       " 've',\n",
       " 'very',\n",
       " 'was',\n",
       " 'wasn',\n",
       " \"wasn't\",\n",
       " 'we',\n",
       " 'were',\n",
       " 'weren',\n",
       " \"weren't\",\n",
       " 'what',\n",
       " 'when',\n",
       " 'where',\n",
       " 'which',\n",
       " 'while',\n",
       " 'who',\n",
       " 'whom',\n",
       " 'why',\n",
       " 'will',\n",
       " 'with',\n",
       " 'won',\n",
       " \"won't\",\n",
       " 'wouldn',\n",
       " \"wouldn't\",\n",
       " 'y',\n",
       " 'you',\n",
       " \"you'd\",\n",
       " \"you'll\",\n",
       " \"you're\",\n",
       " \"you've\",\n",
       " 'your',\n",
       " 'yours',\n",
       " 'yourself',\n",
       " 'yourselves'}"
      ]
     },
     "execution_count": 13,
     "metadata": {},
     "output_type": "execute_result"
    }
   ],
   "source": [
    "stops"
   ]
  },
  {
   "cell_type": "code",
   "execution_count": 14,
   "id": "96d97269",
   "metadata": {},
   "outputs": [],
   "source": [
    "#apply review_to_words function on reviews\n",
    "df['product_review'] = df['product_review'].apply(review_to_words)"
   ]
  },
  {
   "cell_type": "code",
   "execution_count": 15,
   "id": "09f72b9b",
   "metadata": {},
   "outputs": [],
   "source": [
    "#apply review_to_words function on reviews\n",
    "df['product_detailed_review'] = df['product_detailed_review'].apply(review_to_words)"
   ]
  },
  {
   "cell_type": "code",
   "execution_count": 16,
   "id": "ada7742e",
   "metadata": {},
   "outputs": [
    {
     "name": "stdout",
     "output_type": "stream",
     "text": [
      "cooler great excel airflow price amaz love \n",
      "\n",
      "best budget cooler nice cool perform price \n",
      "\n",
      "qualiti good air power decent \n",
      "\n"
     ]
    }
   ],
   "source": [
    "#prints the first three reviews from product_detailed_review\n",
    "for review in df['product_detailed_review'][0:3]:\n",
    "    print(review,'\\n')"
   ]
  },
  {
   "cell_type": "markdown",
   "id": "d57e7c02",
   "metadata": {},
   "source": [
    "### Apply label encoding to the sentiment column\n",
    "converting categorical `sentiment` labels ('Positive', 'Negative','Neutral'.) into numerical values using scikit-learn's LabelEncoder, storing the encoded values in a new column named `sentiment_encoded`. This transformation facilitates for sentiment analysis."
   ]
  },
  {
   "cell_type": "code",
   "execution_count": 17,
   "id": "653e5461",
   "metadata": {},
   "outputs": [],
   "source": [
    "encoder = LabelEncoder()\n",
    "df['sentiment_encoded'] = encoder.fit_transform(df['Sentiment'])"
   ]
  },
  {
   "cell_type": "markdown",
   "id": "985af5b7",
   "metadata": {},
   "source": [
    "### Importing Required files For Sentiment analysis Classification "
   ]
  },
  {
   "cell_type": "code",
   "execution_count": 18,
   "id": "23971604",
   "metadata": {},
   "outputs": [],
   "source": [
    "from sklearn.model_selection import train_test_split #import train_test_split\n",
    "from sklearn.feature_extraction.text import TfidfVectorizer #import TfidfVectorizer \n",
    "from sklearn.metrics import confusion_matrix #import confusion_matrix\n",
    "from sklearn.naive_bayes import MultinomialNB #import MultinomialNB\n",
    "from sklearn.ensemble import RandomForestClassifier  #import RandomForestClassifier"
   ]
  },
  {
   "cell_type": "markdown",
   "id": "e64f606f",
   "metadata": {},
   "source": [
    "### Creates TF-IDF vectorizer and transforms the corpus\n",
    "This code initializes a TF-IDF vectorizer to convert text data from `df.product_detailed_review` into numerical TF-IDF representations. The resulting `reviews_corpus` variable holds a sparse matrix where rows represent reviews and columns represent unique words, weighted by their TF-IDF scores. The `.shape` attribute provides the dimensions of this matrix, indicating the number of reviews and unique words captured in the TF-IDF transformation."
   ]
  },
  {
   "cell_type": "code",
   "execution_count": 19,
   "id": "7f22aefb",
   "metadata": {},
   "outputs": [
    {
     "data": {
      "text/plain": [
       "(240, 825)"
      ]
     },
     "execution_count": 19,
     "metadata": {},
     "output_type": "execute_result"
    }
   ],
   "source": [
    "vectorizer = TfidfVectorizer()\n",
    "reviews_corpus = vectorizer.fit_transform(df.product_detailed_review)\n",
    "reviews_corpus.shape"
   ]
  },
  {
   "cell_type": "code",
   "execution_count": 20,
   "id": "f6ee1f26",
   "metadata": {},
   "outputs": [
    {
     "data": {
      "text/plain": [
       "(240,)"
      ]
     },
     "execution_count": 20,
     "metadata": {},
     "output_type": "execute_result"
    }
   ],
   "source": [
    "sentiment = df['sentiment_encoded']\n",
    "sentiment.shape"
   ]
  },
  {
   "cell_type": "markdown",
   "id": "d778cd89",
   "metadata": {},
   "source": [
    "### Split the data in train and test\n",
    "train_test_split from scikit-learn to partition reviews_corpus and sentiment into training (X_train, Y_train) and testing (X_test, Y_test) sets, with 30% of the data reserved for testing and a fixed random seed (random_state=42) for reproducibility."
   ]
  },
  {
   "cell_type": "code",
   "execution_count": 21,
   "id": "8a74824a",
   "metadata": {},
   "outputs": [
    {
     "name": "stdout",
     "output_type": "stream",
     "text": [
      "Train data shape  (168, 825) (168,)\n",
      "Test data shape  (72, 825) (72,)\n"
     ]
    }
   ],
   "source": [
    "from sklearn.model_selection import train_test_split\n",
    "X_train,X_test,Y_train,Y_test = train_test_split(reviews_corpus,sentiment,test_size=0.3,random_state=42)\n",
    "\n",
    "print('Train data shape ',X_train.shape,Y_train.shape)\n",
    "print('Test data shape ',X_test.shape,Y_test.shape)"
   ]
  },
  {
   "cell_type": "markdown",
   "id": "00b7de93",
   "metadata": {},
   "source": [
    "### Multinomial Naive Bayes classifier"
   ]
  },
  {
   "cell_type": "code",
   "execution_count": 22,
   "id": "70c7ee27",
   "metadata": {},
   "outputs": [
    {
     "name": "stdout",
     "output_type": "stream",
     "text": [
      "Accuracy: 87.50%\n",
      "Confusion Matrix\n",
      "[[ 0  0]\n",
      " [ 9 63]]\n"
     ]
    }
   ],
   "source": [
    "clf_NB = MultinomialNB().fit(X_train, Y_train) #fit the training data\n",
    "\n",
    "pred = clf_NB.predict(X_test) #predict the sentiment for test data\n",
    "\n",
    "print(\"Accuracy: %.2f%%\" %(clf_NB.score(X_test, Y_test)*100)) #check accuracy\n",
    "print(\"Confusion Matrix\") \n",
    "print(confusion_matrix(pred, Y_test)) #print confusion matrix"
   ]
  },
  {
   "cell_type": "markdown",
   "id": "a72ad47c",
   "metadata": {},
   "source": [
    "### Random Forest classifier"
   ]
  },
  {
   "cell_type": "code",
   "execution_count": 23,
   "id": "0e6ec7e5",
   "metadata": {},
   "outputs": [
    {
     "name": "stdout",
     "output_type": "stream",
     "text": [
      "Accuracy: 87.50%\n",
      "Confusion Matrix\n",
      "[[ 0  0]\n",
      " [ 9 63]]\n"
     ]
    }
   ],
   "source": [
    "clf_RF = RandomForestClassifier().fit(X_train, Y_train)\n",
    "\n",
    "pred = clf_RF.predict(X_test)\n",
    "\n",
    "print(\"Accuracy: %.2f%%\" % (clf_RF.score(X_test, Y_test) * 100))\n",
    "print(\"Confusion Matrix\")\n",
    "print(confusion_matrix(pred, Y_test))"
   ]
  }
 ],
 "metadata": {
  "kernelspec": {
   "display_name": "Python 3 (ipykernel)",
   "language": "python",
   "name": "python3"
  },
  "language_info": {
   "codemirror_mode": {
    "name": "ipython",
    "version": 3
   },
   "file_extension": ".py",
   "mimetype": "text/x-python",
   "name": "python",
   "nbconvert_exporter": "python",
   "pygments_lexer": "ipython3",
   "version": "3.11.5"
  }
 },
 "nbformat": 4,
 "nbformat_minor": 5
}
